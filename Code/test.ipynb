{
 "cells": [
  {
   "cell_type": "code",
   "execution_count": 2,
   "id": "6a51d946",
   "metadata": {},
   "outputs": [
    {
     "name": "stdout",
     "output_type": "stream",
     "text": [
      "(2, 3)\n"
     ]
    }
   ],
   "source": [
    "import numpy as np\n",
    "z = np.zeros([2, 3])\n",
    "print(z.shape)"
   ]
  },
  {
   "cell_type": "code",
   "execution_count": 2,
   "id": "4f90a0ea",
   "metadata": {},
   "outputs": [
    {
     "name": "stdout",
     "output_type": "stream",
     "text": [
      "[[0. 0. 0.]\n",
      " [0. 0. 0.]]\n"
     ]
    }
   ],
   "source": [
    "print(z)"
   ]
  },
  {
   "cell_type": "code",
   "execution_count": 4,
   "id": "fb8ff7cb",
   "metadata": {},
   "outputs": [
    {
     "data": {
      "text/plain": [
       "(5,)"
      ]
     },
     "execution_count": 4,
     "metadata": {},
     "output_type": "execute_result"
    }
   ],
   "source": [
    "(np.zeros(5)).shape"
   ]
  },
  {
   "cell_type": "code",
   "execution_count": null,
   "id": "d48c0190",
   "metadata": {},
   "outputs": [
    {
     "data": {
      "text/plain": [
       "(array([2, 3]), array([2, 2]))"
      ]
     },
     "execution_count": 17,
     "metadata": {},
     "output_type": "execute_result"
    }
   ],
   "source": [
    "result = [ [3, 3, 4], [2, 4, 4], [5, 5, 0], [6, 4, 0] ]\n",
    "result = np.array(result)\n",
    "[i, j] = np.where(result == 0)  # 回傳 0 的位址。i = [2, 3] (2 個零所在的列數)，j = [2, 2] (2 個零所在的行數)\n",
    "# result = np.delete(result, i, axis = 0)\n",
    "# result\n",
    "i, j"
   ]
  },
  {
   "cell_type": "code",
   "execution_count": 22,
   "id": "9c85b78d",
   "metadata": {},
   "outputs": [
    {
     "data": {
      "text/plain": [
       "array([2, 1, 2, 1, 2, 1, 1, 1])"
      ]
     },
     "execution_count": 22,
     "metadata": {},
     "output_type": "execute_result"
    }
   ],
   "source": [
    "a = np.array([[0, 2, 4]])\n",
    "b = np.array([1, 1, 1, 1, 1, 1, 1, 1])\n",
    "b[a] += 1\n",
    "b"
   ]
  },
  {
   "cell_type": "code",
   "execution_count": 27,
   "id": "f4560a14",
   "metadata": {},
   "outputs": [
    {
     "data": {
      "text/plain": [
       "array([1])"
      ]
     },
     "execution_count": 27,
     "metadata": {},
     "output_type": "execute_result"
    }
   ],
   "source": [
    "a = np.array([[1], [2], [3]])\n",
    "a = a.reshape(-1, 1)[0]\n",
    "a"
   ]
  },
  {
   "cell_type": "code",
   "execution_count": 38,
   "id": "bce4b658",
   "metadata": {},
   "outputs": [
    {
     "data": {
      "text/plain": [
       "array([ 3,  9, 11])"
      ]
     },
     "execution_count": 38,
     "metadata": {},
     "output_type": "execute_result"
    }
   ],
   "source": [
    "# 有三個 User，每個 User 有一個空間大小為 2 的 Queue\n",
    "Buffer = np.array([[2, 3, 4], [1, 6, 7]])  # shape = (2, 3)\n",
    "k = np.sum(Buffer, axis = 0)  # k = array([3, 9, 11])\n",
    "l = np.where(k != 0)  # output : array([0, 1, 2])\n",
    "# 代表 3 個 UE 的 Queue 都有東西\n",
    "k\n"
   ]
  },
  {
   "cell_type": "code",
   "execution_count": 39,
   "id": "54628e31",
   "metadata": {},
   "outputs": [
    {
     "data": {
      "text/plain": [
       "2"
      ]
     },
     "execution_count": 39,
     "metadata": {},
     "output_type": "execute_result"
    }
   ],
   "source": [
    "a = np.zeros([2, 3])\n",
    "a[:, 0].size"
   ]
  },
  {
   "cell_type": "code",
   "execution_count": 1,
   "id": "a35ff421",
   "metadata": {},
   "outputs": [
    {
     "data": {
      "text/plain": [
       "(True, '12.8', 'NVIDIA GeForce RTX 5070 Ti')"
      ]
     },
     "execution_count": 1,
     "metadata": {},
     "output_type": "execute_result"
    }
   ],
   "source": [
    "import torch\n",
    "import torch.version\n",
    "torch.cuda.is_available(), torch.version.cuda, torch.cuda.get_device_name(0)"
   ]
  },
  {
   "cell_type": "code",
   "execution_count": null,
   "id": "0a484b4e",
   "metadata": {},
   "outputs": [
    {
     "name": "stdout",
     "output_type": "stream",
     "text": [
      "done\n"
     ]
    }
   ],
   "source": [
    "import os\n",
    "if not os.path.exists(\"./saved_agents/GANDDQN\"):\n",
    "    os.makedirs(\"./saved_agents/GANDDQN\")\n",
    "    print(\"done\")\n",
    "else: print(\"already exsists\")"
   ]
  },
  {
   "cell_type": "code",
   "execution_count": 3,
   "id": "cdbdec13",
   "metadata": {},
   "outputs": [
    {
     "data": {
      "text/plain": [
       "torch.float32"
      ]
     },
     "execution_count": 3,
     "metadata": {},
     "output_type": "execute_result"
    }
   ],
   "source": [
    "import torch\n",
    "a = torch.tensor(1).to(torch.float)\n",
    "a.dtype"
   ]
  },
  {
   "cell_type": "code",
   "execution_count": 5,
   "id": "f264a91d",
   "metadata": {},
   "outputs": [
    {
     "data": {
      "text/plain": [
       "(tensor([[[16, 11, 15]],\n",
       " \n",
       "         [[23, 24, 22]]]),\n",
       " torch.Size([2, 1, 3]))"
      ]
     },
     "execution_count": 5,
     "metadata": {},
     "output_type": "execute_result"
    }
   ],
   "source": [
    "input = torch.tensor([\n",
    "    [[10, 11, 12], [13, 14, 15], [16, 17, 18]],  # sample 0\n",
    "    [[20, 21, 22], [23, 24, 25], [26, 27, 28]]   # sample 1\n",
    "])  # shape: (2, 3, 3)  # (batch_size=2, num_actions=3, num_samples=3)\n",
    "\n",
    "index = torch.tensor([\n",
    "    [[2, 0, 1]],  # sample 0: want action 2 at sample 0, action 0 at sample 1, ...\n",
    "    [[1, 1, 0]]   # sample 1: ...\n",
    "])  # shape: (2, 1, 3)\n",
    "\n",
    "result = input.gather(1, index)  # dim = 1 → 在 action 維度選\n",
    "\n",
    "result, result.shape"
   ]
  },
  {
   "cell_type": "code",
   "execution_count": null,
   "id": "80e68f5f",
   "metadata": {},
   "outputs": [],
   "source": []
  }
 ],
 "metadata": {
  "kernelspec": {
   "display_name": "Reference_venv",
   "language": "python",
   "name": "python3"
  },
  "language_info": {
   "codemirror_mode": {
    "name": "ipython",
    "version": 3
   },
   "file_extension": ".py",
   "mimetype": "text/x-python",
   "name": "python",
   "nbconvert_exporter": "python",
   "pygments_lexer": "ipython3",
   "version": "3.12.3"
  }
 },
 "nbformat": 4,
 "nbformat_minor": 5
}
