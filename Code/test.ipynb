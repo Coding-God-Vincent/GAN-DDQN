{
 "cells": [
  {
   "cell_type": "code",
   "execution_count": null,
   "id": "6a51d946",
   "metadata": {
    "vscode": {
     "languageId": "plaintext"
    }
   },
   "outputs": [],
   "source": [
    "import numpy as np\n",
    "z = np.zeros([2, 3])"
   ]
  }
 ],
 "metadata": {
  "language_info": {
   "name": "python"
  }
 },
 "nbformat": 4,
 "nbformat_minor": 5
}
